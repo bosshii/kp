{
  "nbformat": 4,
  "nbformat_minor": 0,
  "metadata": {
    "colab": {
      "provenance": []
    },
    "kernelspec": {
      "name": "python3",
      "display_name": "Python 3"
    },
    "language_info": {
      "name": "python"
    }
  },
  "cells": [
    {
      "cell_type": "markdown",
      "source": [
        "#csv_integrator.ipynb\n",
        "csvファイルからグラフを積分したい！！\n",
        "\n",
        "cf. [csv_modifier.ipynb](https://colab.research.google.com/drive/1vFMcZxH8EfCF-Z4jA2gAH7ALpoSPMgDD) "
      ],
      "metadata": {
        "id": "vhwpNNyMBtFF"
      }
    },
    {
      "cell_type": "code",
      "execution_count": null,
      "metadata": {
        "id": "eqkWj31tBdfo"
      },
      "outputs": [],
      "source": [
        "from google.colab import drive\n",
        "drive.mount('/content/drive')\n",
        "#import csv\n",
        "import pprint\n",
        "import numpy as np\n",
        "import pandas as pd\n",
        "import matplotlib.pyplot as plt"
      ]
    },
    {
      "cell_type": "code",
      "source": [
        "#variables\n",
        "dir = \"/content/drive/MyDrive/2. KP/2_作業/コンクリ破壊試験_data/2022_normal_lot1/\"\n",
        "csv = \"lot1_day1_2.csv\"\n",
        "load = dir+csv\n",
        "save=dir+\"modified_\"+csv"
      ],
      "metadata": {
        "id": "HaIEqRLyCNsh"
      },
      "execution_count": null,
      "outputs": []
    }
  ]
}