{
  "nbformat": 4,
  "nbformat_minor": 0,
  "metadata": {
    "colab": {
      "provenance": [],
      "collapsed_sections": [
        "B0b7vQSG-kpV",
        "xOk9wx0lsYe0",
        "wNj9nL-x-fdY"
      ]
    },
    "kernelspec": {
      "name": "python3",
      "display_name": "Python 3"
    },
    "language_info": {
      "name": "python"
    }
  },
  "cells": [
    {
      "cell_type": "markdown",
      "source": [
        "#csv_modifier.ipynb\n",
        "数千行に及ぶcsvファイルを（十行ごとに）抽出・再付番する。 \n",
        "\n",
        "cf. [csv_integrator.ipynb](https://colab.research.google.com/drive/1S6fQ3fPmLLrQWLa_eN50o-Zgd_zcXqsY#scrollTo=vhwpNNyMBtFF)"
      ],
      "metadata": {
        "id": "ve9lysp64buu"
      }
    },
    {
      "cell_type": "code",
      "execution_count": null,
      "metadata": {
        "colab": {
          "base_uri": "https://localhost:8080/"
        },
        "id": "xbRMtu0TFjTt",
        "outputId": "8fa2b4f1-846c-4d44-a611-e76706668f3e"
      },
      "outputs": [
        {
          "output_type": "stream",
          "name": "stdout",
          "text": [
            "Drive already mounted at /content/drive; to attempt to forcibly remount, call drive.mount(\"/content/drive\", force_remount=True).\n"
          ]
        }
      ],
      "source": [
        "from google.colab import drive\n",
        "drive.mount('/content/drive')\n",
        "#import csv\n",
        "import pprint\n",
        "import numpy as np\n",
        "import pandas as pd\n",
        "import matplotlib.pyplot as plt"
      ]
    },
    {
      "cell_type": "code",
      "source": [
        "#variables\n",
        "dir = \"/content/drive/MyDrive/2. KP/2_作業/コンクリ破壊試験_data/2022_normal_lot1/\"\n",
        "csv = \"lot1_day1_2.csv\"\n",
        "load = dir+csv\n",
        "save=dir+\"modified_\"+csv"
      ],
      "metadata": {
        "id": "HUXdrvoSG3Ve"
      },
      "execution_count": null,
      "outputs": []
    },
    {
      "cell_type": "markdown",
      "source": [
        "##統合版"
      ],
      "metadata": {
        "id": "B0b7vQSG-kpV"
      }
    },
    {
      "cell_type": "code",
      "source": [
        "df = pd.read_csv(load,encoding='shift-jis')\n",
        "df.drop('試験回数', axis=1, inplace=True)\n",
        "df.drop('移動量[mm]', axis=1, inplace=True)\n",
        "df_zero = pd.DataFrame(np.zeros(len(df.columns)).reshape(1,len(df.columns)), index=['0'], columns=df.columns)\n",
        "df_tail = df.tail(1)\n",
        "df=pd.concat([df_zero, df])[::50]\n",
        "df=pd.concat([df, df_tail])\n",
        "df=df.reset_index(drop=True)\n",
        "df.to_csv(save, encoding=\"shift_jis\")\n",
        "print(save+\" に保存完了\")"
      ],
      "metadata": {
        "colab": {
          "base_uri": "https://localhost:8080/"
        },
        "id": "kV8jcuEf-oPT",
        "outputId": "3bcb153b-3f6a-425c-8283-5fa4be22bc7e"
      },
      "execution_count": null,
      "outputs": [
        {
          "output_type": "stream",
          "name": "stdout",
          "text": [
            "/content/drive/MyDrive/2. KP/2_作業/コンクリ破壊試験_data/2022_normal_lot1/modified_lot1_day1_2.csv に保存完了\n"
          ]
        }
      ]
    },
    {
      "cell_type": "markdown",
      "source": [
        "##過程"
      ],
      "metadata": {
        "id": "xOk9wx0lsYe0"
      }
    },
    {
      "cell_type": "code",
      "source": [
        "#データを読み込み、dfに格納　試験回数と移動量は不要につき削除する\n",
        "df = pd.read_csv(load,encoding='shift-jis')\n",
        "df.drop('試験回数', axis=1, inplace=True)\n",
        "df.drop('移動量[mm]', axis=1, inplace=True)\n",
        "#df"
      ],
      "metadata": {
        "id": "_3ZZ7lktKEZU"
      },
      "execution_count": null,
      "outputs": []
    },
    {
      "cell_type": "code",
      "source": [
        "#0秒0mm0Nの項目がないので、「df_zero」に用意しておく\n",
        "zero_initializer = np.zeros(len(df.columns)).reshape(1,len(df.columns))\n",
        "df_zero = pd.DataFrame(zero_initializer, index=['0'], columns=df.columns)\n",
        "#df_zero"
      ],
      "metadata": {
        "id": "NF7rE9w4mroK"
      },
      "execution_count": null,
      "outputs": []
    },
    {
      "cell_type": "code",
      "source": [
        "#df_zeroをdfに挿入\n",
        "df=pd.concat([df_zero, df])\n",
        "#df"
      ],
      "metadata": {
        "id": "Yf_hMEdCm7FV"
      },
      "execution_count": null,
      "outputs": []
    },
    {
      "cell_type": "code",
      "source": [
        "#最後の記録は消えてほしくないので、別に抜き出しておく\n",
        "df_tail=df.tail(1)\n",
        "#df_tail"
      ],
      "metadata": {
        "id": "vh0OBwiT6dUE"
      },
      "execution_count": null,
      "outputs": []
    },
    {
      "cell_type": "code",
      "source": [
        "#dfを50行ごとに抽出\n",
        "df=df[::50]\n",
        "#df"
      ],
      "metadata": {
        "id": "LGV7XEa5n9mR"
      },
      "execution_count": null,
      "outputs": []
    },
    {
      "cell_type": "code",
      "source": [
        "#最終行のデータdf_tailをdfに復帰させる\n",
        "df=pd.concat([df, df_tail]) \n",
        "#df"
      ],
      "metadata": {
        "id": "0oM1Dgf-7C_T"
      },
      "execution_count": null,
      "outputs": []
    },
    {
      "cell_type": "code",
      "source": [
        "#再付番\n",
        "df=df.reset_index(drop=True)\n",
        "#df"
      ],
      "metadata": {
        "id": "WER26PqUoS44"
      },
      "execution_count": null,
      "outputs": []
    },
    {
      "cell_type": "code",
      "source": [
        "#編集済みデータを別のcsvとして保存\n",
        "df.to_csv(save, encoding=\"shift_jis\")\n",
        "print(save+\" に保存完了\")"
      ],
      "metadata": {
        "id": "nFK1B-8IpNV9"
      },
      "execution_count": null,
      "outputs": []
    },
    {
      "cell_type": "markdown",
      "source": [
        "##test"
      ],
      "metadata": {
        "id": "wNj9nL-x-fdY"
      }
    },
    {
      "cell_type": "code",
      "source": [
        "#簡易グラフ　beta\n",
        "##　日本語化\n",
        "##　secとmmのプロットを削除\n",
        "##　縮尺の調整\n",
        "#####　これはexcelの方が良いか？\n",
        "df.plot()"
      ],
      "metadata": {
        "colab": {
          "base_uri": "https://localhost:8080/",
          "height": 791
        },
        "id": "Qa2rKI-zoyuw",
        "outputId": "2f67c224-877f-4b12-e6a6-82b850197412"
      },
      "execution_count": null,
      "outputs": [
        {
          "output_type": "execute_result",
          "data": {
            "text/plain": [
              "<matplotlib.axes._subplots.AxesSubplot at 0x7f986b5e6bb0>"
            ]
          },
          "metadata": {},
          "execution_count": 34
        },
        {
          "output_type": "stream",
          "name": "stderr",
          "text": [
            "/usr/local/lib/python3.8/dist-packages/matplotlib/backends/backend_agg.py:214: RuntimeWarning: Glyph 26178 missing from current font.\n",
            "  font.set_text(s, 0.0, flags=flags)\n",
            "/usr/local/lib/python3.8/dist-packages/matplotlib/backends/backend_agg.py:214: RuntimeWarning: Glyph 38291 missing from current font.\n",
            "  font.set_text(s, 0.0, flags=flags)\n",
            "/usr/local/lib/python3.8/dist-packages/matplotlib/backends/backend_agg.py:214: RuntimeWarning: Glyph 31227 missing from current font.\n",
            "  font.set_text(s, 0.0, flags=flags)\n",
            "/usr/local/lib/python3.8/dist-packages/matplotlib/backends/backend_agg.py:214: RuntimeWarning: Glyph 21205 missing from current font.\n",
            "  font.set_text(s, 0.0, flags=flags)\n",
            "/usr/local/lib/python3.8/dist-packages/matplotlib/backends/backend_agg.py:214: RuntimeWarning: Glyph 37327 missing from current font.\n",
            "  font.set_text(s, 0.0, flags=flags)\n",
            "/usr/local/lib/python3.8/dist-packages/matplotlib/backends/backend_agg.py:214: RuntimeWarning: Glyph 33655 missing from current font.\n",
            "  font.set_text(s, 0.0, flags=flags)\n",
            "/usr/local/lib/python3.8/dist-packages/matplotlib/backends/backend_agg.py:214: RuntimeWarning: Glyph 37325 missing from current font.\n",
            "  font.set_text(s, 0.0, flags=flags)\n",
            "/usr/local/lib/python3.8/dist-packages/matplotlib/backends/backend_agg.py:183: RuntimeWarning: Glyph 26178 missing from current font.\n",
            "  font.set_text(s, 0, flags=flags)\n",
            "/usr/local/lib/python3.8/dist-packages/matplotlib/backends/backend_agg.py:183: RuntimeWarning: Glyph 38291 missing from current font.\n",
            "  font.set_text(s, 0, flags=flags)\n",
            "/usr/local/lib/python3.8/dist-packages/matplotlib/backends/backend_agg.py:183: RuntimeWarning: Glyph 31227 missing from current font.\n",
            "  font.set_text(s, 0, flags=flags)\n",
            "/usr/local/lib/python3.8/dist-packages/matplotlib/backends/backend_agg.py:183: RuntimeWarning: Glyph 21205 missing from current font.\n",
            "  font.set_text(s, 0, flags=flags)\n",
            "/usr/local/lib/python3.8/dist-packages/matplotlib/backends/backend_agg.py:183: RuntimeWarning: Glyph 37327 missing from current font.\n",
            "  font.set_text(s, 0, flags=flags)\n",
            "/usr/local/lib/python3.8/dist-packages/matplotlib/backends/backend_agg.py:183: RuntimeWarning: Glyph 33655 missing from current font.\n",
            "  font.set_text(s, 0, flags=flags)\n",
            "/usr/local/lib/python3.8/dist-packages/matplotlib/backends/backend_agg.py:183: RuntimeWarning: Glyph 37325 missing from current font.\n",
            "  font.set_text(s, 0, flags=flags)\n"
          ]
        },
        {
          "output_type": "display_data",
          "data": {
            "text/plain": [
              "<Figure size 432x288 with 1 Axes>"
            ],
            "image/png": "[encoded data removed]"
          },
          "metadata": {
            "needs_background": "light"
          }
        }
      ]
    }
  ]
}